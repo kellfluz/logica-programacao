{
  "nbformat": 4,
  "nbformat_minor": 0,
  "metadata": {
    "colab": {
      "provenance": []
    },
    "kernelspec": {
      "name": "python3",
      "display_name": "Python 3"
    },
    "language_info": {
      "name": "python"
    }
  },
  "cells": [
    {
      "cell_type": "markdown",
      "source": [
        "#Calculadora Módulo 1 Análise de Dados - Raquel Andrello Formagin da Luz\n",
        "\n",
        "\n"
      ],
      "metadata": {
        "id": "70bGNZQsg6au"
      }
    },
    {
      "cell_type": "code",
      "source": [
        "# Pede o nome do usuário\n",
        "nome = input(('Digite seu nome: '))\n",
        "print('Olá', nome, 'vamos fazer uma calculadora?')\n",
        "\n",
        "# Pede para o usuário digitar dois números separadamente e depois escolher um operador\n",
        "num1 = int(input('Digite um número de 0 a 10: '))\n",
        "num2 = int(input('Agora, digite outro número de 0 a 10: '))\n",
        "operador = input('Qual operação você quer fazer? (+, -, *, /): ')\n",
        "\n",
        "# Se operador válido o programa soma, subtrai, multiplica ou divide, senão, avisa e pede operador válido\n",
        "if operador == '+':\n",
        "  soma = num1 + num2\n",
        "  print(nome, 'a soma de', num1, '+', num2, 'é:', soma)\n",
        "elif operador == '-':\n",
        "  subtracao = num1 - num2\n",
        "  print(nome, 'a subtração de', num1, '-', num2, 'é:', subtracao)\n",
        "elif operador == '*':\n",
        "  multi = num1 * num2\n",
        "  print(nome, 'a multiplicação de',num1, '*', num2, 'é:', multi)\n",
        "elif operador == '/':\n",
        "  divisao = num1 // num2\n",
        "  print(nome, 'a divisão', num1, '-', num2, 'é:', divisao)\n",
        "else:\n",
        "  print('Por favor digite um operador válido (+, -, *, /)')"
      ],
      "metadata": {
        "id": "j3cLKUtCn1vr"
      },
      "execution_count": null,
      "outputs": []
    }
  ]
}